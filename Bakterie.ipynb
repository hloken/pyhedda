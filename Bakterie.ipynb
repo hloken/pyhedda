{
 "cells": [
  {
   "cell_type": "markdown",
   "id": "35acc18c",
   "metadata": {},
   "source": [
    "# Simulering av Evolusjon av Antibiotikaresistente Bakterier\n",
    "\n",
    "En av hovedmålene med dette prosjektet er å reprodusere dette eksperimentet https://www.youtube.com/watch?v=plVk4NVIUh8 \n",
    "ved Harvard Medical School ved hjelp av en numerisk simulering av bakterier!\n",
    "\n",
    "I tillegg er målet at det skal hjelpe deg bygge opp en dypere forståelse av hvordan betingelsene\n",
    "1. Genetisk variasjon\n",
    "2. Arv av arvestoffet\n",
    "3. Miljøvariasjon\n",
    "\n",
    "leder til evolusjon."
   ]
  },
  {
   "cell_type": "markdown",
   "id": "e6f26a20-428c-4f84-a437-79e7327ad0eb",
   "metadata": {
    "tags": []
   },
   "source": [
    "## Python biblioteker \n",
    "\n",
    "Det er noen Python biblioteker du kommer til å trenge gjennom dette prosjektet.\n",
    "\n",
    "1. **Numpy** for numerisk Python. Inneholder mange nyttige funksjoner som forenkler kodeskrivingen. Spesielt vil du bruke denne til å trekke tilfeldige tall! For å importere dette, skriver man dette på toppen av koden:\n",
    "    ```Python\n",
    "    import numpy as np\n",
    "    ```\n",
    "    Spesielt kommer du til å trenge å trekke tilfeldige tall ved hjelp av Numpy. De to tilfellene som er særdeles nyttige er\n",
    "    1. Tilfeldige *heltall* mellom to heltall `a` og `b`. Dette kan gjøres med\n",
    "        ```Python\n",
    "        r = np.random.randint(low=a, high=b) # Den inkludere nederste grense, men ikke øverste. \n",
    "        ```  \n",
    "        Merk at her inkluderes ikke den øvre grensen, så hvis du trenger å inkludere denne, må du skriv `high=b + 1` i stedet.\n",
    "    2. Tilfeldig *reelle* tall mellom `0` og `1`. Dette kan gjøres med\n",
    "        ```Python\n",
    "        r = np.random.uniform(low=0, high=1)  # Reelle tall (\"desimaltall\") mellom 0 og 1.\n",
    "        ```\n",
    "     \n",
    "2. **Matplotlib** for plotting og animasjoner. Du kommer til å bruke denne både til å lage figurer og animasjoner. For å importere dette skriver man dette på toppen av koden:\n",
    "    ```Python\n",
    "    import matplotlib.pyplot as plt\n",
    "    ```\n",
    "    Visualisering blir nyttig etter hvert, men det kommer vi tilbake til litt senere.\n",
    "\n",
    "3. Hvis du ønsker litt **feedback** om hvor langt du er i en for-løkke som bare skal løpe over et bestemt antall iterasjoner `n_iter`, kan du bytte ut `range` med `trange` fra et Python bibliotek som heter `tqdm`. Du må da legge til `from tqdm import trange` (gjerne helt øverst i koden din). En for-løkke kan da skrives som\n",
    "    ```Python\n",
    "    for i in trange(n_iter):\n",
    "        #koden din her\n",
    "    ```\n",
    "    Så får du en progresjonsbar som forteller deg hvor langt i simuleringen du er. Nice!"
   ]
  },
  {
   "cell_type": "markdown",
   "id": "0ed25edf",
   "metadata": {},
   "source": [
    "## Bakterie biblioteket"
   ]
  },
  {
   "cell_type": "markdown",
   "id": "f14f53f9",
   "metadata": {},
   "source": [
    "Du får utdelt et bibliotek kalt `Bakterie` som inneholder innebygde egenskaper til en bakterie. Denne ligger i Python filen `bakterie.py`.\n",
    "For å benytte deg av denne datatypen, må du skrive følgende linje på toppen av koden din:\n",
    "\n",
    "```Python\n",
    "from bakterie import Bakterie\n",
    "```\n",
    "\n",
    "**Egenskapene** til bakterien er kodet som:\n",
    "\n",
    "| Egenskap | Variabelnavn | Beskrivelse |\n",
    "|---|---|---|\n",
    "| x  | `x`  | x-koordinaten til bakterien.  |\n",
    "| y  | `y`  | y-koordinaten til bakterien.  |\n",
    "| Posisjon  | `posisjon`  | (x, y)-koordinaten til bakterien.  |\n",
    "| Alder | `alder` | Alderen til bakterien. |\n",
    "| Resistans | `resistans` | Graden av antibiotikaresistans. Er et tall mellom 0 og 1. Hvis 0, har den 0% resistans. Hvis 1, har den 100% resistans. |"
   ]
  },
  {
   "cell_type": "markdown",
   "id": "d8cd76ad",
   "metadata": {},
   "source": [
    "# Hvordan lager man og bruker en bakterie?\n",
    "For å lage en bakterie må vi gi den noen startegenskaper:\n",
    "\n",
    "- `x_celler`: Antall x-koordinater som finnes i x-retning der bakterien lever.\n",
    "- `y_celler`: Antall y-koordinater som finnes i y-retning der bakterien lever.\n",
    "- `x`: x-koordinaten som bakterien starter på. Hvis denne ikke spesifiseres, samples den tilfeldig mellom 0 og `x_celler - 1`\n",
    "- `y`: y-koordinaten som bakterien starter på. Hvis denne ikke spesifiseres, samples den tilfeldig mellom 0 og `y_celler - 1`\n",
    "- `resistans`: Graden av antibiotikaresistans bakterien har. Hvis ikke oppgitt, er den satt til 0 som betyr at bakterien ikke er har noen grad av antibiotikaresistans.\n",
    "\n",
    "\n",
    "Her er et eksempel på hvordan vi lager en bakterie:"
   ]
  },
  {
   "cell_type": "code",
   "execution_count": 3,
   "id": "1a8bacdd",
   "metadata": {},
   "outputs": [],
   "source": [
    "from bakterie import Bakterie # Må importere Bakterie for å kunne bruke den "
   ]
  },
  {
   "cell_type": "code",
   "execution_count": 4,
   "id": "66631e47",
   "metadata": {},
   "outputs": [
    {
     "name": "stdout",
     "output_type": "stream",
     "text": [
      "Bakterie(\n",
      "            x = 5\n",
      "            y = 4\n",
      "            posisjon = (5, 4)\n",
      "            alder = 0\n",
      "            resistans = 0\n",
      "        )\n"
     ]
    }
   ],
   "source": [
    "# Lager en bakterie som lever i et 10 x 10 stort området med startposisjon (5, 4)\n",
    "bakterie = Bakterie(\n",
    "    x_celler=10,\n",
    "    y_celler=10,\n",
    "    x=5,\n",
    "    y=4,\n",
    "    resistans=None, # Resistans settes til 0 hvis den ikke sendes inn eller er satt til `None`.\n",
    ")\n",
    "\n",
    "#Printer ut litt info om bakterien som du kan bruke til å sjekke om alt fungerer som det skal\n",
    "print(bakterie)"
   ]
  },
  {
   "cell_type": "markdown",
   "id": "b7ddf75d",
   "metadata": {},
   "source": [
    "Vi kan hente ut egenskapene til bakterien som dette:"
   ]
  },
  {
   "cell_type": "code",
   "execution_count": 5,
   "id": "2190eddf",
   "metadata": {},
   "outputs": [],
   "source": [
    "x = bakterie.x\n",
    "y = bakterie.y\n",
    "posisjon = bakterie.posisjon\n",
    "alder = bakterie.alder\n",
    "resistans = bakterie.resistans"
   ]
  },
  {
   "cell_type": "code",
   "execution_count": 10,
   "id": "71d934e0",
   "metadata": {},
   "outputs": [
    {
     "name": "stdout",
     "output_type": "stream",
     "text": [
      "x = 0\n",
      "y = 4\n",
      "posisjon = (5, 4)\n",
      "alder = 0\n",
      "resitans = 0\n"
     ]
    }
   ],
   "source": [
    "print(f\"x = {x}\")\n",
    "print(f\"y = {y}\")\n",
    "print(f\"posisjon = {posisjon}\")\n",
    "print(f\"alder = {alder}\")\n",
    "print(f\"resitans = {resistans}\")"
   ]
  },
  {
   "cell_type": "markdown",
   "id": "4e818454",
   "metadata": {},
   "source": [
    "Vi kan endre egenskapene til bakterien også. Her er noen eksempler:"
   ]
  },
  {
   "cell_type": "code",
   "execution_count": 11,
   "id": "6ac70afc",
   "metadata": {},
   "outputs": [],
   "source": [
    "bakterie.alder += 1 # Øker alderen til bakterien med 1. Samme som å skrive `bakterie.alder = bakterie.alder + 1`\n",
    "bakterie.x += 1 # Flytter bakterien en celle til høyre. Samme som å skrive `bakterie.x = bakterie.x + 1`\n",
    "bakterie.y -= 1 # Flytter bakterien en celle ned. Samme som å skrive `bakterie.y = bakterie.y - 1`"
   ]
  },
  {
   "cell_type": "markdown",
   "id": "2c048c5d",
   "metadata": {},
   "source": [
    "Vi kan sjekke hva som skjedde med bakterien sine egenskaper ved å bruke `print(bakterie)`:"
   ]
  },
  {
   "cell_type": "code",
   "execution_count": 12,
   "id": "945aa083",
   "metadata": {},
   "outputs": [
    {
     "name": "stdout",
     "output_type": "stream",
     "text": [
      "Bakterie(\n",
      "            x = 6\n",
      "            y = 3\n",
      "            posisjon = (6, 3)\n",
      "            alder = 1\n",
      "            resistans = 0\n",
      "        )\n"
     ]
    }
   ],
   "source": [
    "print(bakterie)"
   ]
  },
  {
   "cell_type": "markdown",
   "id": "e236bad5",
   "metadata": {},
   "source": [
    "# Modell for bakterien\n",
    "\n",
    "Å lage en modell for bakterien er nødvendig utover det som er lagt inn i `Bakterie` datatypen. Den lagrer bare data om bakterien som `alder`, `x`- og `y`-koordinat, `posisjon` og `resistans`. Dette er grunnleggende byggesteiner i modellen for bakterien, men det mangler mye her. \n",
    "\n",
    "For å lage ferdig en modell for bakterien, er det mange valg vi kan ta. Men det er et par punkter vi bør utfylle for at det skal ligne på en virkelig bakterie:\n",
    "\n",
    "1. **Bevegelse**. Bakterien må kunne bevege seg rundt i petriskålen.\n",
    "    - Det er mange måter man kan modellere bevegelsen til bakterier på.\n",
    "    - Men hvis man ser på en video på Youtube eller kanskje er så heldig å ser på dem gjennom et heftig mikroskop, så ser bevegelsen til bakterier noe tilfeldig ut.\n",
    "    - Du kan derfor generere bevegelsen til bakteriene **helt tilfeldig**!\n",
    "2. **Petriskålen**. Petriskålen er på en måte *Universet* til bakteriene i denne simuleringen. \n",
    "    - Petriskålen er rektangelformet med `x_celler` posisjoner i x-retning og `y_celler` posisjoner i y-retning. Dette gir `x_celler * y_celler` ruter som en bakterie kan befinne seg på.\n",
    "    - For eksempel, hvis `x_celler = 5` og `y_celler = 4`, vil det være $4\\cdot 5 = 20$ ruter i rektangelet som bakterien kan befinne seg på.\n",
    "    - Vi kunne modellert dette med flyttall også, men det er litt enklere å gjøre dette med heltall.\n",
    "3. **Reproduksjon**. Bakteriene må kunne reprodusere/formere seg ved å arve \"arvestoffet\" stoffet sitt videre til neste generasjon. Bakterier kan ikke reprodusere seg helt fritt i populasjon. Etter hvert som populasjonen vokser, vil konkurranse om ressursene vokse og reproduksjon blir vanskeligere og vanskeligere. En måte å modellere denne prosessen på er å introdusere en sannsynlighet $p(n)$ der $n$ er antall bakterier i populasjonen, og bruke funksjonsuttrykket:\n",
    "    $$\n",
    "    p(n) = 2\\left(1- \\frac{1}{1 + e^{-b\\cdot n}}\\right)\n",
    "    $$\n",
    "    \n",
    "    - Her er $b$ er en konstant som styrer *bæreevnen* til populasjonen (det vil si den setter en grense på maksimalt antall individer i   populasjonen). Denne kommer til å bli nyttig å kontrollere, siden svært mange bakterier vil gi utrolig treig kode. Treig kode er vanskelig å teste. Generelt sett vil en **liten verdi for $b$ gi en stor populasjon og motsatt**. \n",
    "    - Når $n$ er liten er $p(n) \\approx 1$ som betyr at det er lett for bakterien og formere seg når det er få individer i populasjonen. Tilsvarende, vil $p(n) \\to 0$ når $n \\to \\infty$ (aka når $n$ blir veldig stor)\n",
    "    - For øvrig er $e \\approx 2.718$ kalt for *Eulers tall* og er innbygd i Numpy som en eksponentialfunksjon $f(x) = e^x$ som i Numpy er `np.exp(x)`.  \n",
    "\n",
    "4. **En representasjon av arvestoffet for antibiotikaresistans**. Det er fryktelig vanskelig å modellere arvestoffet nøyaktig, selv for en enkel bakterie. I stedet er trikset å modellere fenotypen den arvematerialet koder for. Her er du interessert i å modellere antibiotikaresistans. En enkel måte å modellere dette på er å la antibiotikaresistansen til bakterien være et tall mellom `0` og `1`, der `0` representerer 0% antibiotikaresistans og `1` representerer 100% resistans. Jo høyere grad av resistans bakterien har, jo høyere sannsynlighet har bakterien for å overleve i en miljø med antibiotika.\n",
    "5. **Mutasjoner**. Genetisk variasjon er en essensiell betingelse for at evolusjon skal finne sted. Siden bakterier i praksis lager en kopi av seg selv når de formerer seg, vil mutasjoner spille en essensiell rolle for å introdusere genetisk variasjon i populasjonen. Det du kan gjøre for å få lage en relativt realistisk modell er å anta at:\n",
    "    -  Sannsynligheten for at en mutasjon oppstår hos en bakterie er $p = 1 / 10^5 = 10^{-5}$. Det vil si at det skjer ca. 1 mutasjon per 100 000 reproduksjoner. I python kan for øvrig dette skrives som `p = 1e-5`.\n",
    "    - Anta at hvis arvestoffet skal mutere og avgis til avkommet, at antibiotikaresistansen alltid øker. Men la den øke litt tilfeldig, men aldri la den komme høyere enn akkurat `1`.\n",
    "    - Vi kommer tilbake til hvordan du kan modellere mutasjonsprosessen med kode lenger ned!\n",
    "\n",
    "6. **Dødsfall**. Jepp, dystert som det er, så varer ingen liv evig og det gjelder også for bakterier. \n",
    "    - I programmet du skriver må du derfor gi bakteriene en endelig levetid og drepe bakterien når dens livsløp passerer den maksimale alderen den kan ha.\n",
    "    - Kodemessig betyr dette at du må øke `alder` egenskapen til alle bakteriene for hver tidsenhet som går i programmet. \n",
    "    - For enkelhets skyld kan du anta at én iterasjon i en for-løkke er ett \"bakterieår\", også sette en maksimal alder i programmet. Når bakterien passerer alderen, sletter du bakterien fra programmet. Hvis du har en liste med bakterier som heter `bakterier` kan du skrive følgende for å \"drepe\" en bakterie som er for gammel:\n",
    "\n",
    "    ```Python\n",
    "    for bakterie in bakterier:\n",
    "        if bakterie.alder >= max_alder:\n",
    "            bakterier.remove(bakterie)\n",
    "    ``` "
   ]
  },
  {
   "cell_type": "markdown",
   "id": "710d2c5c",
   "metadata": {},
   "source": [
    "## Modell for Miljøet\n",
    "\n",
    "Du trenger en modell for petriskålen som bakteriene skal leve i. Vi har allerede nevnt at den kan modelleres som et rektangel bestående av `x_celler * y_celler`\n",
    "ruter. Men en viktig betingelse for evolusjon er at det er **miljøvariasjon**. \n",
    "For evolusjon av antibiotikaresistente bakterier, kan denne miljøvariasjonen være varierende styrke av antibiotika. \n",
    "Siden bakterienes antibiotikaresistans kan modelleres med et tall mellom 0 og 1, kan man modellere antibiotikastyrken på samme vis. \n",
    "For at det skal ligne på eksperimentet gjort ved Harvard Medical School, kan du lage ulike soner hvor du stadig har et tall som representerer antibiotikaresistansen som er stadig nærmere 1. Lar vi $A(x)$ være antibiotikastyrken, kan du modellere denne som\n",
    "\n",
    "$$\n",
    "A(x) = \n",
    "\\begin{cases}\n",
    "    0, \\quad \\text{hvis} \\quad 0 \\leq x < 0.2 \\cdot x_\\text{celler} \\\\\n",
    "    0.2, \\quad \\text{hvis} \\quad 0.2 \\cdot x_\\text{celler} \\leq x < 0.4 \\cdot x_\\text{celler} \\\\\n",
    "    0.6, \\quad \\text{hvis} \\quad 0.4 \\cdot x_\\text{celler} \\leq x < 0.6 \\cdot x_\\text{celler} \\\\\n",
    "    0.8, \\quad \\text{hvis} \\quad 0.6 \\cdot x_\\text{celler} \\leq x < 0.8 \\cdot x_\\text{celler} \\\\\n",
    "    0.99, \\quad \\text{hvis} \\quad 0.8 \\cdot x_\\text{celler} \\leq x\n",
    "\\end{cases}\n",
    "$$\n",
    "\n",
    "Du kan selvfølgelig velge tallene annerledes enn dette også. \n",
    "Vi kommer tilbake til hvordan dette kan brukes lenger ned."
   ]
  },
  {
   "cell_type": "markdown",
   "id": "adc14dd2",
   "metadata": {},
   "source": [
    "# TODO: forslag til delmål for prosjektet"
   ]
  },
  {
   "cell_type": "markdown",
   "id": "d26c5dea",
   "metadata": {},
   "source": [
    "1. Lage en funksjon som flytter bakterien til en ny posisjon.\n",
    "2. Lage en liste fylt med bakterier og finn ut hvordan man flytter alle sammen.\n",
    "3. Lag en algoritme som simulerer (utvikler) bakteriepopulasjonen over tid."
   ]
  },
  {
   "cell_type": "markdown",
   "id": "0c1091f6",
   "metadata": {},
   "source": [
    "## Første steg: **å flytte bakterien**\n",
    "\n",
    "Siden hver bakterie skal flyttes, og hver slik bakterie kan flyttes etter samme regler, er det lurt å lage en **funksjon** som flytter bakterien. Det er en svært nyttig metode å lage funksjonen på som gjør at koden din blir mer fleksibel, og det er gjennom å lage en funksjon som gir deg en funksjon! Høres komplisert ut, men vil se ut som dette:\n",
    "\n",
    "```Python\n",
    "def lag_flytte_funksjon(x_celler, y_celler):\n",
    "    def flytt(bakterie):\n",
    "        # TODO skriv din kode som flytter bakterien\n",
    "    return flytt\n",
    "```\n",
    "\n",
    "Tenker vi oss at vi gir petriskålen 20 ruter langs `x`-retning og 10 ruter langs `y`-retning, kan man lage en funksjon som flytter bakteriene med \n",
    "\n",
    "```Python\n",
    "flytt = lag_flytte_funksjon(x_celler=20, y_celler=10) # et miljø med 10 x 10 celler.\n",
    "```\n",
    "\n",
    "For å flytte bakterien kan du da skrive \n",
    "\n",
    "```Python\n",
    "bakterie = flytt(bakterie) # Flytter bakterien og returnerer bakterien med dens nye posisjon.\n",
    "```\n",
    "\n",
    "**Jobben din er å fylle inn kode der det står # TODO**!"
   ]
  },
  {
   "cell_type": "markdown",
   "id": "4d26af09",
   "metadata": {},
   "source": [
    "Men hvordan skal du flytte bakterien? Den enkleste løsningen som *garanterer* at bakterien kommer til å kunne nå alle mulige posisjoner i petriskålen over lang nok tid er:\n",
    "1. Genererer forflytning i `x`-retning og `y`-retning helt tilfeldig! \n",
    "2. La endringen være enten `+1` eller `-1` i begge retninger.\n",
    "\n",
    "*Kodehint*: Du kan hente ut enten `+1` eller `-1` tilfeldig med\n",
    "```Python\n",
    "import numpy as np # Pass på å importere dette på toppen av koden din! \n",
    "\n",
    "# Trekke tilfeldig endring i x-retning:\n",
    "dx = np.random.choice([-1, 1]) #Setter endringen `dx` til enten `+1` eller `-1` med 50% sjanse for hver.\n",
    "```\n",
    "\n",
    "Du må passe på at bakterien ikke beveger seg utenfor området (petriskålen) som har størrelse `x_celler` i `x`-retning og `y_celler` i `y`-retning."
   ]
  },
  {
   "cell_type": "code",
   "execution_count": 1,
   "id": "79ef3f54",
   "metadata": {},
   "outputs": [],
   "source": [
    "# Skjelettkode for flyttefunksjonen\n",
    "import numpy as np\n",
    "def flytte_funksjon(x_celler, y_celler):\n",
    "    def flytt(bakterie):\n",
    "        dx = np.random.choice([-1, 1])\n",
    "        dy = np.random.choice([-1, 1])\n",
    "        \n",
    "        if bakterie.x + dx >= 0:\n",
    "            bakterie.x += dx            \n",
    "        elif bakterie.x + dx < bakterie.x_celler:\n",
    "            bakterie.x += dx\n",
    "        \n",
    "        if (bakterie.y + dy >= 0):\n",
    "            bakterie.y += dy\n",
    "        elif (bakterie.y + dy < bakterie.y_celler):\n",
    "            bakterie.y += dy\n",
    "        \n",
    "        return bakterie\n",
    "    return flytt"
   ]
  },
  {
   "cell_type": "markdown",
   "id": "b5d314be-e36e-45b3-a22f-b1ea6dc2588c",
   "metadata": {
    "tags": []
   },
   "source": [
    "## Andre steg: **Lage en populasjon med bakterier**\n",
    "\n",
    "Du er nødt å fylle opp en populasjon med bakterier. Dette i seg selv er ikke rett frem å finne ut av hvordan man gjør ut å lært \n",
    "seg hvor **lister** i Python funker. Det er en **beholder** du kan fylle opp med vilkårlige objekter i Python. Noen eksempler er:\n",
    "\n",
    "```Python\n",
    "heltalls_liste = [0, 1, 2, 3, 4, 5]\n",
    "mikset_liste = [0, \"lol\", None, True, 1e-3] # Listen inneholder objekter med datatypene int, str, None, bool og float \n",
    "```\n",
    "\n",
    "Man har en genial måte å lage lister på som kalles for **list-comprehension** eller bare **listcomp** (har ikke noen norsk betegnelse så vidt jeg vet).\n",
    "Hvis du ønsker å fylle opp en liste med bakterier, kan det gjøres slik:\n",
    "\n",
    "```Python\n",
    "x_celler = 20\n",
    "y_celler = 10\n",
    "n_bakterier = 100 # Antall bakterier\n",
    "bakterier = [Bakterie(x_celler=x_celler, y_celler=y_celler, x=None, y=None, resistans=None) for _ in range(n_bakterier)]\n",
    "```\n",
    "\n",
    "Her genereres `x` og `y` tilfeldig slik at `x` ligger mellom `0` og `x_celler`, og `y` ligger mellom `0` og `y_celler`. I simuleringen du skal skrive, må du nok begrense hvor i petriskålen startverdiene til `x` og `y` er, men her ser du en måte du kan fylle opp en liste med bakterier på. \n",
    "\n",
    "En mer typisk løsning som gjør akkurat det samme, men som krever flere linjer med kode ville vært:\n",
    "\n",
    "```Python\n",
    "x_celler = 20\n",
    "y_celler = 10\n",
    "n_bakterier = 100 # Antall bakterier\n",
    "bakterier = [] # Lag en tom liste som skal fylles opp\n",
    "for _ in range(n_bakterier):\n",
    "    bakterier.append(\n",
    "        Bakterie(\n",
    "            x_celler=x_celler,\n",
    "            y_celler=y_celler,\n",
    "            x=None,\n",
    "            y=None,\n",
    "            resistans=None,\n",
    "        )\n",
    "    )\n",
    "```\n",
    "\n",
    "Noen ganger er dette lettere å lese, men det viser seg å ofte gi *tregere* kode!\n",
    "\n",
    "*For øvrig! Hvis du lurer på hvorfor det er brukt `_` i for løkka i stedet for en variabel `i`, så skyldes det at hvis du ikke bruker variabelen du itererer over i for-løkka, bør den settes til `_` for å indikere for leseren at løkke-variabelen ikke brukes til noe i for-løkka.*"
   ]
  },
  {
   "cell_type": "markdown",
   "id": "95d4094b-1409-487a-8bbd-28236ffacff4",
   "metadata": {},
   "source": [
    "## Tredje steg: Lage en algoritme som utvikler bakteriene over tid\n",
    "\n",
    "Her overlater jeg deg til å tenke litt mer på egenhånd siden du nå har ganske mange av byggesteinene du trenger for å skrive en tidsutvikling av bakteriepopulasjonen. \n",
    "Du skal likevel få et par flere hint du kan benytte deg av her. \n",
    "\n",
    "1. For å bestemme om en bakterie kan reprodusere eller ikke, må du ha et par ingredienser til stedet. \n",
    "    - Sannsynlighetsfunksjonen $p(n)$ som vi introduserte i stad må lages. Igjen lønner det seg å gjøre som proffene å lage en funksjon som lager en funksjon. Her er en skjelettkode for dette:\n",
    "        ```Python\n",
    "        def lag_sannsynlighetsfunksjon(b):\n",
    "            def p(n):\n",
    "                b = 0.001\n",
    "                sannsynlighet = 2 * (1 - 1/(1 + np.exp(-b * n)))\n",
    "                return sannsynlighet\n",
    "            return p\n",
    "\n",
    "        # Eksempel på hvordan du lager en sannsynlighetsfunksjon p(n) for en bestemt verdi av `b`\n",
    "        p = lag_sannsynlighetsfunksjon(b=0.001) # Lage en funksjon for p(n) der b er satt til b=0.001. \n",
    "        ```\n",
    "    - For å sjekke om bakterien skal reprodusere, kan du gjøre det som kalles for **slice sampling**, som betyr:\n",
    "        - Trekk et tilfeldig tall $r$ mellom 0 og 1. \n",
    "        - Hvis $p(n) > r$, så får bakterien reprodusere, hvis ikke får ikke bakterien reprodusere.\n",
    "        - For å hente ut hvor mange bakterier du har i populasjonen, kan du skrive `n = len(bakterier)` i Python. Funksjonen `len` henter ut lengden på en liste,\n",
    "        som betyr antall elementer i listen. Siden `bakterier` er en liste med bakterier og hvert element er en bakterie, vil `len(bakterier)` gi antall bakterier i lista (eller da i populasjonen din)! \n",
    "2. For å bestemme om bakterien som blir født når en gammel bakterie formerer seg skal få et mutert gen, kan du også gjøre slice sampling! Hvis du har satt `mutasjons_sannsynlighet = 1e-5`, vil du bestemme om en bakterie skal få et mutert arvestoff eller ikke med\n",
    "    ```Python\n",
    "        r = np.random.uniform(low=0, high=1)\n",
    "        if mutasjons_sannsynlighet > r:\n",
    "            # Lag en bakterie med som har mutert arvestoffet og derfor får økt antibiotikaresistans her\n",
    "        else:\n",
    "            # Lag en bakterie med akkurat samme resistans som \"forelder\"-bakterien. \n",
    "    ```\n",
    "\n",
    "3. For å bestemme om bakterien skal dø eller ikke av antibiotikaen i miljøet den lever i, kan du benytte deg av funksjonen for antibiotikastyrken $A(x)$, som ble definert under modellen for petriskålen, på følgende måte:\n",
    "    - Finn `x` - posisjonen til bakterien og regn ut antibiotikastyrken i området bakterien befinner seg i.\n",
    "    - Hent ut antibiotikaresistansen $R$ til bakterien.\n",
    "    - Trekk et tilfeldig tall $r$ mellom 0 og 1.\n",
    "    - Hvis $R - A(x) < r$, så overlever bakterien iterasjonen.\n",
    "\n",
    "\n",
    "Jobben din er å lage en algoritme du skal skrive i Python, men et par ting å tenke på er at per iterasjon (per \"bakterieår\") bør du ha med:\n",
    "1. Alle bakteriene flytter seg ett steg.\n",
    "2. Alle bakteriene \"forsøker\" å formere seg etter regelen introdusert over.\n",
    "3. Alle bakterier som er for gamle drepes.\n",
    "\n",
    "Så reptererer du dette mange ganger! "
   ]
  },
  {
   "cell_type": "code",
   "execution_count": null,
   "id": "7861671d-69c1-4605-a2fb-b9ca933ae2eb",
   "metadata": {},
   "outputs": [],
   "source": [
    "import bakterie \n",
    "n=100\n",
    "b = 0.001\n",
    "funksjon = sannsynlighetsfunksjon(b)\n",
    "resultat = funksjon(n)\n",
    "print(resultat)"
   ]
  },
  {
   "cell_type": "code",
   "execution_count": 49,
   "id": "f9ea93fd-1f89-40a6-8da2-7c1f3a3e30df",
   "metadata": {},
   "outputs": [
    {
     "name": "stdout",
     "output_type": "stream",
     "text": [
      "Bakterie(\n",
      "            x = 5\n",
      "            y = 4\n",
      "            posisjon = (5, 4)\n",
      "            alder = 0\n",
      "            resistans = 0\n",
      "        )\n"
     ]
    }
   ],
   "source": [
    "from bakterie import Bakterie\n",
    "from bakterie import flytte_funksjon\n",
    "\n",
    "# Lager en bakterie som lever i et 10 x 10 stort området med startposisjon (5, 4)\n",
    "gammel_bakterie = Bakterie(\n",
    "    x_celler=10,\n",
    "    y_celler=10,\n",
    "    x=5,\n",
    "    y=4,\n",
    "    resistans=None, # Resistans settes til 0 hvis den ikke sendes inn eller er satt til `None`.\n",
    ")\n",
    "\n",
    "#Printer ut litt info om bakterien som du kan bruke til å sjekke om alt fungerer som det skal\n",
    "print(gammel_bakterie)\n",
    "\n",
    "#rar_python = flytte_funksjon(100)\n",
    "#oppdatert_bakterie = rar_pythonflytt(gammel_bakterie)"
   ]
  },
  {
   "cell_type": "code",
   "execution_count": 8,
   "id": "533f96f0-5d2f-4766-852a-314674eae2f3",
   "metadata": {},
   "outputs": [
    {
     "name": "stdout",
     "output_type": "stream",
     "text": [
      "Hello 1\n"
     ]
    },
    {
     "name": "stderr",
     "output_type": "stream",
     "text": [
      "100%|██████████| 100/100 [00:22<00:00,  4.36it/s]\n"
     ]
    },
    {
     "name": "stdout",
     "output_type": "stream",
     "text": [
      "Skriver banan.gif\n"
     ]
    }
   ],
   "source": [
    "from bakterie import Bakterie\n",
    "import numpy as np # Nødvendig pakke\n",
    "import matplotlib.pyplot as plt # Nødvendig pakkee\n",
    "import matplotlib.animation as animation\n",
    "from matplotlib.animation import PillowWriter\n",
    "from tqdm import trange\n",
    "\n",
    "print(\"Hello 1\")\n",
    "\n",
    "#flytting av bakterien\n",
    "def flytte_funksjon(x_celler, y_celler):\n",
    "    def flytt(bakterie):\n",
    "        dx = np.random.choice([-1, 1])\n",
    "        dy = np.random.choice([-1, 1])\n",
    "\n",
    "        ny_x_verdi = bakterie.x + dx\n",
    "        if ny_x_verdi > 0 and ny_x_verdi < x_celler-1:\n",
    "            bakterie.x = ny_x_verdi       \n",
    "\n",
    "        ny_y_verdi = bakterie.y + dy\n",
    "        if ny_y_verdi > 0 and ny_y_verdi < y_celler-1:\n",
    "            bakterie.y = ny_y_verdi\n",
    "        \n",
    "\n",
    "        return bakterie\n",
    "    return flytt\n",
    "\n",
    "\n",
    "#Reproduksjon av bakterier\n",
    "def sannsynlighetsfunksjon(b):\n",
    "    def p(n):\n",
    "        sannsynlighet = 2 * (1 - 1/(1 + np.exp(-b * n)))\n",
    "        return sannsynlighet\n",
    "    return p\n",
    "\n",
    "def reproduksjon(mammabakterie):\n",
    "    antallbakterier = len(bakterier)\n",
    "    sannsynlighetsbanan = sannsynlighetsfunksjon(0.001)\n",
    "    sannsynlighet = sannsynlighetsbanan(antallbakterier) \n",
    "    r = np.random.uniform(low=0, high=1)\n",
    "    if r < sannsynlighet:\n",
    "        return True\n",
    "    else: return False\n",
    "\n",
    "#milø for bakterier\n",
    "x_celler = 100\n",
    "y_celler = 100\n",
    "bakterier=[]\n",
    "\n",
    "#Spawning av bakterier\n",
    "for teller in range(1): \n",
    "    bakterie = Bakterie(\n",
    "        x_celler= x_celler,\n",
    "        y_celler= y_celler,\n",
    "        x=teller,\n",
    "        y=1, #np.random.randint(y_celler/4),\n",
    "        resistans=None)\n",
    "    \n",
    "    bakterier.append(bakterie)\n",
    "\n",
    "flytt = flytte_funksjon(x_celler, y_celler)\n",
    "\n",
    "fig, ax = plt.subplots()    \n",
    "\n",
    "#simulering og visualisering\n",
    "imgs = []\n",
    "for n in trange(100):\n",
    "    img = np.zeros(shape=(x_celler, y_celler))\n",
    "\n",
    "    for bakterie in bakterier:\n",
    "        if reproduksjon(bakterie):\n",
    "            bakterie = Bakterie(\n",
    "            x_celler= x_celler,\n",
    "            y_celler= y_celler,\n",
    "            x=bakterie.x,\n",
    "            y=bakterie.y, \n",
    "            resistans=None)\n",
    "    \n",
    "            bakterier.append(bakterie)\n",
    "            \n",
    "        flytt(bakterie)\n",
    "        img[bakterie.x, bakterie.y] = 1\n",
    "    #print(img)\n",
    "    #if n == 0:\n",
    "        #imgs.append([ax.imshow(img.T, cmap=\"gray\")])\n",
    "    #else:\n",
    "    imgs.append([ax.imshow(img.T, animated=True)])\n",
    "\n",
    "ani = animation.ArtistAnimation(fig, imgs, interval=1000, blit=True)\n",
    "\n",
    "writer = PillowWriter(fps=2)\n",
    "print(\"Skriver banan.gif\")\n",
    "ani.save(\"banana.gif\", writer=writer)\n",
    "plt.close()"
   ]
  },
  {
   "cell_type": "code",
   "execution_count": null,
   "id": "b7e8c7b4-8207-4496-9471-a6d42a882a74",
   "metadata": {},
   "outputs": [],
   "source": []
  }
 ],
 "metadata": {
  "kernelspec": {
   "display_name": "Python 3 (ipykernel)",
   "language": "python",
   "name": "python3"
  },
  "language_info": {
   "codemirror_mode": {
    "name": "ipython",
    "version": 3
   },
   "file_extension": ".py",
   "mimetype": "text/x-python",
   "name": "python",
   "nbconvert_exporter": "python",
   "pygments_lexer": "ipython3",
   "version": "3.9.13"
  },
  "vscode": {
   "interpreter": {
    "hash": "fed0aa51cf3f031ead0692ef56105426695eb662b6063c4c91fbf276a14cf491"
   }
  }
 },
 "nbformat": 4,
 "nbformat_minor": 5
}
